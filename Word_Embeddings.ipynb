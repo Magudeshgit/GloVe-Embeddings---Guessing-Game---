{
  "nbformat": 4,
  "nbformat_minor": 0,
  "metadata": {
    "colab": {
      "provenance": [],
      "gpuType": "T4",
      "authorship_tag": "ABX9TyNB1UuvbiN3PFETorMKhA/g",
      "include_colab_link": true
    },
    "kernelspec": {
      "name": "python3",
      "display_name": "Python 3"
    },
    "language_info": {
      "name": "python"
    },
    "accelerator": "GPU"
  },
  "cells": [
    {
      "cell_type": "markdown",
      "metadata": {
        "id": "view-in-github",
        "colab_type": "text"
      },
      "source": [
        "<a href=\"https://colab.research.google.com/github/Magudeshgit/GloVe-Embeddings---Guessing-Game---/blob/master/Word_Embeddings.ipynb\" target=\"_parent\"><img src=\"https://colab.research.google.com/assets/colab-badge.svg\" alt=\"Open In Colab\"/></a>"
      ]
    },
    {
      "cell_type": "code",
      "execution_count": null,
      "metadata": {
        "id": "-FPKNntv3yRu"
      },
      "outputs": [],
      "source": [
        "!pip install gensim"
      ]
    },
    {
      "cell_type": "markdown",
      "source": [
        "1.) Get Dataset\n",
        "2.) Reduce Dimension 200->50\n",
        "3.) Create a AnnoyIndex\n",
        "4.) Run Similiarity Test"
      ],
      "metadata": {
        "id": "5CEPEILSykTi"
      }
    },
    {
      "cell_type": "code",
      "source": [
        "import gensim.downloader as dn\n",
        "word_vec = dn.load(\"glove-wiki-gigaword-300\")"
      ],
      "metadata": {
        "id": "TJmLRKSyBfS2"
      },
      "execution_count": 4,
      "outputs": []
    },
    {
      "cell_type": "code",
      "source": [
        "def generate_matrix():\n",
        "    global vectorkeys\n",
        "    vectorkeys = list(word_vec.index_to_key[:100000])\n",
        "    matrix = []\n",
        "    print(\"Initialzing Matrix Generation\")\n",
        "    for i,word in enumerate(vectorkeys):\n",
        "      matrix.append(word_vec.get_vector(word))\n",
        "    print(\"Matrix Generation Complete\")\n",
        "    return matrix\n",
        ""
      ],
      "metadata": {
        "id": "NpIekcL6yzEo"
      },
      "execution_count": 5,
      "outputs": []
    },
    {
      "cell_type": "code",
      "source": [
        "matrix_vecs = generate_matrix()"
      ],
      "metadata": {
        "colab": {
          "base_uri": "https://localhost:8080/"
        },
        "id": "AjDbOrq21X9g",
        "outputId": "82db6ce9-b6b7-4620-9f93-89b9f897854f"
      },
      "execution_count": 6,
      "outputs": [
        {
          "output_type": "stream",
          "name": "stdout",
          "text": [
            "Initialzing Matrix Generation\n",
            "Matrix Generation Complete\n"
          ]
        }
      ]
    },
    {
      "cell_type": "markdown",
      "source": [
        "Reduction from 200dim to 50dim"
      ],
      "metadata": {
        "id": "Y6fPBhAC2pwi"
      }
    },
    {
      "cell_type": "code",
      "source": [
        "from sklearn.decomposition import TruncatedSVD\n",
        "k=TruncatedSVD(50)\n",
        "reduced_matrix = k.fit_transform(matrix_vecs)"
      ],
      "metadata": {
        "id": "nT7QcewA2aZY"
      },
      "execution_count": 7,
      "outputs": []
    },
    {
      "cell_type": "code",
      "source": [
        "reduced_matrix.shape"
      ],
      "metadata": {
        "id": "jcByIBLQ2vlj"
      },
      "execution_count": null,
      "outputs": []
    },
    {
      "cell_type": "code",
      "source": [
        "!pip install annoy"
      ],
      "metadata": {
        "colab": {
          "base_uri": "https://localhost:8080/"
        },
        "id": "83GQ1Rib22Vl",
        "outputId": "e7af26f8-1c52-498c-c366-8061739ee532"
      },
      "execution_count": 9,
      "outputs": [
        {
          "output_type": "stream",
          "name": "stdout",
          "text": [
            "Collecting annoy\n",
            "  Downloading annoy-1.17.3.tar.gz (647 kB)\n",
            "\u001b[?25l     \u001b[90m━━━━━━━━━━━━━━━━━━━━━━━━━━━━━━━━━━━━━━━━\u001b[0m \u001b[32m0.0/647.5 kB\u001b[0m \u001b[31m?\u001b[0m eta \u001b[36m-:--:--\u001b[0m\r\u001b[2K     \u001b[91m━━━━━━━━━━━━━━━\u001b[0m\u001b[90m╺\u001b[0m\u001b[90m━━━━━━━━━━━━━━━━━━━━━━━\u001b[0m \u001b[32m256.0/647.5 kB\u001b[0m \u001b[31m7.7 MB/s\u001b[0m eta \u001b[36m0:00:01\u001b[0m\r\u001b[2K     \u001b[90m━━━━━━━━━━━━━━━━━━━━━━━━━━━━━━━━━━━━━━━\u001b[0m \u001b[32m647.5/647.5 kB\u001b[0m \u001b[31m9.4 MB/s\u001b[0m eta \u001b[36m0:00:00\u001b[0m\n",
            "\u001b[?25h  Preparing metadata (setup.py) ... \u001b[?25l\u001b[?25hdone\n",
            "Building wheels for collected packages: annoy\n",
            "  Building wheel for annoy (setup.py) ... \u001b[?25l\u001b[?25hdone\n",
            "  Created wheel for annoy: filename=annoy-1.17.3-cp311-cp311-linux_x86_64.whl size=553320 sha256=1c5456248503fee8cfff9556a8e72d21135febfad92af189a110855bfc91f400\n",
            "  Stored in directory: /root/.cache/pip/wheels/33/e5/58/0a3e34b92bedf09b4c57e37a63ff395ade6f6c1099ba59877c\n",
            "Successfully built annoy\n",
            "Installing collected packages: annoy\n",
            "Successfully installed annoy-1.17.3\n"
          ]
        }
      ]
    },
    {
      "cell_type": "code",
      "source": [
        "from annoy import AnnoyIndex\n",
        "Aindex = AnnoyIndex(50, 'angular')\n",
        "word_to_vec = {}\n",
        "for i, vector in enumerate(reduced_matrix):\n",
        "  Aindex.add_item(i, vector)\n",
        "  word_to_vec[vectorkeys[i]] = vector\n",
        "\n",
        "Aindex.build(10)\n",
        "Aindex.save('indexVector.ann')\n"
      ],
      "metadata": {
        "colab": {
          "base_uri": "https://localhost:8080/"
        },
        "id": "nkjf5RbF1elR",
        "outputId": "5b9b0f35-3ade-471f-82b3-8bf30b8ebb49"
      },
      "execution_count": 10,
      "outputs": [
        {
          "output_type": "execute_result",
          "data": {
            "text/plain": [
              "True"
            ]
          },
          "metadata": {},
          "execution_count": 10
        }
      ]
    },
    {
      "cell_type": "code",
      "source": [
        "word_to_vec['the'].shape\n"
      ],
      "metadata": {
        "colab": {
          "base_uri": "https://localhost:8080/"
        },
        "id": "0hMd1aCvEKbf",
        "outputId": "20eada08-355d-40d7-d95f-96a36940685a"
      },
      "execution_count": 11,
      "outputs": [
        {
          "output_type": "execute_result",
          "data": {
            "text/plain": [
              "(50,)"
            ]
          },
          "metadata": {},
          "execution_count": 11
        }
      ]
    },
    {
      "cell_type": "code",
      "source": [
        "from sklearn.metrics.pairwise import cosine_similarity\n",
        "import pprint\n",
        "vc = word_vec.index_to_key[:100000]\n",
        "vectorkeys = list(vc)\n",
        "def fetch_similarities(word_vector):\n",
        "    a=Aindex.get_nns_by_vector(word_vector, 5)\n",
        "    b=cosine_similarity([word_vector], [reduced_matrix[i] for i in a])\n",
        "    print(vectorkeys[a[b.argmax() + 1]])\n",
        "    # print(vectorkeys[5],reduced_matrix[ind], vectorkeys[ind])"
      ],
      "metadata": {
        "id": "MGPFf0az7Kjw"
      },
      "execution_count": 12,
      "outputs": []
    },
    {
      "cell_type": "code",
      "source": [
        "import numpy as np\n",
        "def return_similars(word):\n",
        "  a=Aindex.get_nns_by_vector(word_to_vec[word], 10)\n",
        "  ls = []\n",
        "  ls.append([vectorkeys[i] for i in a])\n",
        "  ls[0].pop(0)\n",
        "  return ls"
      ],
      "metadata": {
        "id": "mOlu2RxkJyDr"
      },
      "execution_count": 13,
      "outputs": []
    },
    {
      "cell_type": "code",
      "source": [
        "a= return_similars('kind')"
      ],
      "metadata": {
        "id": "p3ViNZStOj7U"
      },
      "execution_count": 14,
      "outputs": []
    },
    {
      "cell_type": "markdown",
      "source": [
        "Actual Game Code"
      ],
      "metadata": {
        "id": "R55XADngJQWd"
      }
    },
    {
      "cell_type": "code",
      "source": [
        "import random\n",
        "import pprint\n",
        "common_word = [\n",
        "    \"apple\", \"river\", \"school\", \"car\", \"dog\",\n",
        "    \"music\", \"house\", \"book\", \"city\", \"water\",\n",
        "    \"tree\", \"computer\", \"light\", \"food\", \"phone\",\n",
        "    \"family\", \"train\", \"chair\", \"friend\", \"money\"\n",
        "]\n",
        "while True:\n",
        "  print(\"Guess The Word Game!!!\")\n",
        "  print(\"Press Enter to start the game!!!\")\n",
        "  input()\n",
        "\n",
        "  guess_word = common_word[random.randint(0, len(common_word)-1)]\n",
        "\n",
        "  print(\"\\n Guess the word\")\n",
        "  print(f'Your Hints are:\\n')\n",
        "  for i in return_similars(guess_word)[0]:\n",
        "    print(i)\n",
        "  guess = input(\"Enter your guess\")\n",
        "  if guess == guess_word:\n",
        "    print(\"Voila, You won. You Guessed it right!!!\")\n",
        "  else:\n",
        "    print(f\"Nayy, You Lose. It was {guess_word}\")"
      ],
      "metadata": {
        "colab": {
          "base_uri": "https://localhost:8080/"
        },
        "id": "0_jwkfIv51O1",
        "outputId": "f6b16ef2-0ec7-4872-b877-9587f014eac7"
      },
      "execution_count": null,
      "outputs": [
        {
          "output_type": "stream",
          "name": "stdout",
          "text": [
            "Guess The Word Game!!!\n",
            "Press Enter to start the game!!!\n",
            "\n",
            "\n",
            " Guess the word\n",
            "Your Hints are:\n",
            "\n",
            "sells\n",
            "selling\n",
            "priced\n",
            "menu\n",
            "products\n",
            "amp\n",
            "buys\n",
            "cheaper\n",
            "brand\n",
            "Enter your guesslk\n",
            "Nayy, You Lose. It was apple\n",
            "Guess The Word Game!!!\n",
            "Press Enter to start the game!!!\n",
            "\n",
            "\n",
            " Guess the word\n",
            "Your Hints are:\n",
            "\n",
            "cities\n",
            "outside\n",
            "where\n",
            "central\n",
            "area\n",
            "campus\n",
            "site\n",
            "hometown\n",
            "district\n",
            "Enter your guesslk\n",
            "Nayy, You Lose. It was city\n",
            "Guess The Word Game!!!\n",
            "Press Enter to start the game!!!\n"
          ]
        }
      ]
    },
    {
      "cell_type": "code",
      "source": [],
      "metadata": {
        "id": "WKnsCLwdGW7t"
      },
      "execution_count": null,
      "outputs": []
    },
    {
      "cell_type": "code",
      "source": [],
      "metadata": {
        "id": "tCFrnW-jgdYT"
      },
      "execution_count": null,
      "outputs": []
    }
  ]
}